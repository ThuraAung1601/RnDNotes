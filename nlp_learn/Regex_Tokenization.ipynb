{
 "cells": [
  {
   "cell_type": "code",
   "execution_count": 1,
   "id": "0345872e-5389-482d-9dca-c83fa1319e27",
   "metadata": {},
   "outputs": [],
   "source": [
    "import re"
   ]
  },
  {
   "cell_type": "markdown",
   "id": "a920627c-322f-4ea4-b251-b725787165f2",
   "metadata": {},
   "source": [
    "- '\\s+' = match all whitespace (\\t, \\n) one or more spaces\n",
    "- '\\w+' = match all words (A-Za-z) one or more words\n",
    "- '\\d+' = match all digits one or more digits"
   ]
  },
  {
   "cell_type": "code",
   "execution_count": 14,
   "id": "0546eb22-c9f2-4be5-8d2a-5940983c27ab",
   "metadata": {},
   "outputs": [],
   "source": [
    "pattern = \"\\s+\"\n",
    "\n",
    "text = \"This   is\\tan example\\nsentence.\"\n",
    "\n",
    "# find\n",
    "matches = re.findall(pattern, text)\n",
    "# split\n",
    "sent = re.split(pattern, text)\n",
    "# sub\n",
    "new_text = re.sub(pattern, r'_', text)"
   ]
  },
  {
   "cell_type": "code",
   "execution_count": 16,
   "id": "81c367ed-63f7-4556-85f0-16d5bfd134fe",
   "metadata": {},
   "outputs": [
    {
     "name": "stdout",
     "output_type": "stream",
     "text": [
      "['   ', '\\t', ' ', '\\n']\n",
      "['This', 'is', 'an', 'example', 'sentence.']\n",
      "This_is_an_example_sentence.\n"
     ]
    }
   ],
   "source": [
    "print(matches)\n",
    "print(sent)\n",
    "print(new_text)"
   ]
  },
  {
   "cell_type": "code",
   "execution_count": 25,
   "id": "1723b23f-74f8-4d40-85db-f471036285e7",
   "metadata": {},
   "outputs": [
    {
     "name": "stdout",
     "output_type": "stream",
     "text": [
      "['Hello world', ' This is a test string', ' It contains numbers like 123 and 456, and some Capitalized words', '']\n",
      "['Hello', 'This', 'It', 'Capitalized']\n",
      "['Hello', 'world.', 'This', 'is', 'a', 'test', 'string!', 'It', 'contains', 'numbers', 'like', '123', 'and', '456,', 'and', 'some', 'Capitalized', 'words.']\n",
      "['123', '456']\n"
     ]
    }
   ],
   "source": [
    "import re\n",
    "\n",
    "my_string = \"Hello world. This is a test string! It contains numbers like 123 and 456, and some Capitalized words.\"\n",
    "\n",
    "# Write a pattern to match sentence endings: sentence_endings\n",
    "sentence_endings = r\"[.!?]\"\n",
    "\n",
    "# Split my_string on sentence endings and print the result\n",
    "print(re.split(sentence_endings, my_string))\n",
    "\n",
    "# Find all capitalized words in my_string and print the result\n",
    "capitalized_words = r\"\\b[A-Z]\\w+\"\n",
    "print(re.findall(capitalized_words, my_string))\n",
    "\n",
    "# Split my_string on spaces and print the result\n",
    "spaces = r\"\\s+\"\n",
    "print(re.split(spaces, my_string))\n",
    "\n",
    "# Find all digits in my_string and print the result\n",
    "digits = r\"\\d+\"\n",
    "print(re.findall(digits, my_string))"
   ]
  },
  {
   "cell_type": "code",
   "execution_count": 18,
   "id": "bf26e284-cc46-4d85-a6fb-e4332b9ad500",
   "metadata": {},
   "outputs": [
    {
     "name": "stdout",
     "output_type": "stream",
     "text": [
      "Collecting nltk\n",
      "  Downloading nltk-3.8.1-py3-none-any.whl.metadata (2.8 kB)\n",
      "Requirement already satisfied: click in /Users/thuraaung/miniconda3/envs/nlp-learn/lib/python3.8/site-packages (from nltk) (8.1.7)\n",
      "Requirement already satisfied: joblib in /Users/thuraaung/miniconda3/envs/nlp-learn/lib/python3.8/site-packages (from nltk) (1.3.2)\n",
      "Requirement already satisfied: regex>=2021.8.3 in /Users/thuraaung/miniconda3/envs/nlp-learn/lib/python3.8/site-packages (from nltk) (2024.5.15)\n",
      "Requirement already satisfied: tqdm in /Users/thuraaung/miniconda3/envs/nlp-learn/lib/python3.8/site-packages (from nltk) (4.66.1)\n",
      "Downloading nltk-3.8.1-py3-none-any.whl (1.5 MB)\n",
      "\u001b[2K   \u001b[90m━━━━━━━━━━━━━━━━━━━━━━━━━━━━━━━━━━━━━━━━\u001b[0m \u001b[32m1.5/1.5 MB\u001b[0m \u001b[31m5.4 MB/s\u001b[0m eta \u001b[36m0:00:00\u001b[0m00:01\u001b[0m00:01\u001b[0m\n",
      "\u001b[?25hInstalling collected packages: nltk\n",
      "Successfully installed nltk-3.8.1\n"
     ]
    }
   ],
   "source": [
    "!pip install nltk"
   ]
  },
  {
   "cell_type": "code",
   "execution_count": 20,
   "id": "ea9d52b7-092d-4015-b801-07dd763a0222",
   "metadata": {},
   "outputs": [
    {
     "name": "stderr",
     "output_type": "stream",
     "text": [
      "[nltk_data] Downloading package punkt to /Users/thuraaung/nltk_data...\n",
      "[nltk_data]   Unzipping tokenizers/punkt.zip.\n"
     ]
    },
    {
     "data": {
      "text/plain": [
       "True"
      ]
     },
     "execution_count": 20,
     "metadata": {},
     "output_type": "execute_result"
    }
   ],
   "source": [
    "nltk.download('punkt')"
   ]
  },
  {
   "cell_type": "code",
   "execution_count": 23,
   "id": "0ac3c74e-c65a-471b-9d3e-acb8e8e1a88c",
   "metadata": {},
   "outputs": [
    {
     "name": "stdout",
     "output_type": "stream",
     "text": [
      "['This is Thura.', 'I am a student.', 'I like to eat snacks!', 'I have a crush on you.']\n",
      "['I', 'have', 'a', 'crush', 'on', 'you', '.']\n",
      "{'like', 'am', 'is', 'Thura', '.', 'eat', 'on', 'a', '!', 'have', 'to', 'This', 'crush', 'I', 'snacks', 'student', 'you'}\n"
     ]
    }
   ],
   "source": [
    "# Import necessary modules\n",
    "import nltk\n",
    "from nltk.tokenize import word_tokenize, sent_tokenize\n",
    "\n",
    "scene_one = \"This is Thura. I am a student. I like to eat snacks! I have a crush on you.\"\n",
    "# Split scene_one into sentences: sentences\n",
    "sentences = sent_tokenize(scene_one)\n",
    "\n",
    "# Use word_tokenize to tokenize the fourth sentence: tokenized_sent\n",
    "tokenized_sent = word_tokenize(sentences[3])\n",
    "\n",
    "# Make a set of unique tokens in the entire scene: unique_tokens\n",
    "unique_tokens = set(word_tokenize(scene_one))\n",
    "\n",
    "print(sentences)\n",
    "print(tokenized_sent)\n",
    "# Print the unique tokens result\n",
    "print(unique_tokens)"
   ]
  },
  {
   "cell_type": "code",
   "execution_count": 24,
   "id": "2bd394df-85a3-4bf0-8242-ec7bb9de16d2",
   "metadata": {},
   "outputs": [
    {
     "name": "stdout",
     "output_type": "stream",
     "text": [
      "80 88\n"
     ]
    }
   ],
   "source": [
    "scene_one += \"I am coconuts drinker!!!\"\n",
    "# Search for the first occurrence of \"coconuts\" in scene_one: match\n",
    "match = re.search(\"coconuts\", scene_one)\n",
    "\n",
    "# Print the start and end indexes of match\n",
    "print(match.start(), match.end())"
   ]
  },
  {
   "cell_type": "code",
   "execution_count": 26,
   "id": "2fc10816-bf56-404d-bf62-9946842d771e",
   "metadata": {},
   "outputs": [
    {
     "name": "stdout",
     "output_type": "stream",
     "text": [
      "None\n"
     ]
    }
   ],
   "source": [
    "# Write a regular expression to search for anything in square brackets: pattern1\n",
    "pattern1 = r\"\\[.*\\]\"\n",
    "\n",
    "# Use re.search to find the first text in square brackets\n",
    "print(re.search(pattern1, scene_one))"
   ]
  },
  {
   "cell_type": "code",
   "execution_count": 27,
   "id": "27ecda6d-bdea-466b-9dfb-5997d3c720ee",
   "metadata": {},
   "outputs": [
    {
     "name": "stdout",
     "output_type": "stream",
     "text": [
      "None\n"
     ]
    }
   ],
   "source": [
    "# Find the script notation at the beginning of the fourth sentence and print it\n",
    "pattern2 = r\"[\\w]+:\"\n",
    "print(re.match(pattern2, sentences[3]))"
   ]
  },
  {
   "cell_type": "code",
   "execution_count": 28,
   "id": "a1120b06-38f9-403e-ad3c-96862ba8c990",
   "metadata": {},
   "outputs": [
    {
     "name": "stdout",
     "output_type": "stream",
     "text": [
      "[('John', 'Doe'), ('Jane', 'Smith'), ('and', 'Alan'), ('Smithee', 'are')]\n"
     ]
    }
   ],
   "source": [
    "import re\n",
    "\n",
    "text = \"John Doe, Jane Smith, and Alan Smithee are attending.\"\n",
    "\n",
    "# Pattern with groups\n",
    "pattern = r\"(\\w+)\\s(\\w+)\"\n",
    "\n",
    "matches = re.findall(pattern, text)\n",
    "print(matches)"
   ]
  },
  {
   "cell_type": "code",
   "execution_count": 34,
   "id": "c0fbbe85-a019-4f79-85ec-eb84932125ed",
   "metadata": {},
   "outputs": [
    {
     "name": "stdout",
     "output_type": "stream",
     "text": [
      "['222-', '444-', '555-']\n"
     ]
    }
   ],
   "source": [
    "import re\n",
    "\n",
    "text = \"111-222-3333 111-444-3333 and 444-555-6666 are phone numbers.\"\n",
    "\n",
    "# Pattern with a group and a quantifier\n",
    "pattern = r\"(\\d{3}-){2}\\d{4}\"\n",
    "\n",
    "matches = re.findall(pattern, text)\n",
    "print(matches)"
   ]
  },
  {
   "cell_type": "code",
   "execution_count": 35,
   "id": "a3f50e01-34ce-4b33-92cd-a0d3f24377c6",
   "metadata": {},
   "outputs": [
    {
     "name": "stdout",
     "output_type": "stream",
     "text": [
      "[('john@example.com', ''), ('', 'jane.doe@example.org')]\n"
     ]
    }
   ],
   "source": [
    "import re\n",
    "\n",
    "text = \"Contact: John (john@example.com) or Jane (jane.doe@example.org)\"\n",
    "\n",
    "# Pattern to match either email format\n",
    "pattern = r\"(\\w+@\\w+\\.\\w+)|(\\w+\\.\\w+@\\w+\\.\\w+)\"\n",
    "\n",
    "matches = re.findall(pattern, text)\n",
    "print(matches)"
   ]
  },
  {
   "cell_type": "markdown",
   "id": "a1b55e95-e29f-40d4-931f-295c93698909",
   "metadata": {},
   "source": [
    "## Summary\n",
    "- Grouping (()): Captures parts of the pattern for extraction and applies quantifiers to groups of characters.\n",
    "- OR Operator (|): Matches one pattern or another, allowing for alternatives."
   ]
  },
  {
   "cell_type": "code",
   "execution_count": 36,
   "id": "04730425-4574-4d9e-bc61-990fc89630b4",
   "metadata": {},
   "outputs": [
    {
     "data": {
      "text/plain": [
       "['SOLDIER',\n",
       " '#',\n",
       " '1',\n",
       " ':',\n",
       " 'Found',\n",
       " 'them',\n",
       " '?',\n",
       " 'In',\n",
       " 'Mercea',\n",
       " '?',\n",
       " 'The',\n",
       " 'coconut',\n",
       " \"'s\",\n",
       " 'tropical',\n",
       " '!']"
      ]
     },
     "execution_count": 36,
     "metadata": {},
     "output_type": "execute_result"
    }
   ],
   "source": [
    "word_tokenize(\"SOLDIER #1: Found them? In Mercea? The coconut's tropical!\")"
   ]
  },
  {
   "cell_type": "code",
   "execution_count": 40,
   "id": "e6933d89-cd41-409c-bd98-ad0afcf5a342",
   "metadata": {},
   "outputs": [
    {
     "name": "stdout",
     "output_type": "stream",
     "text": [
      "['@data', '#twitter', '#camp']\n"
     ]
    }
   ],
   "source": [
    " # Import the necessary modules\n",
    "from nltk.tokenize import regexp_tokenize\n",
    "from nltk.tokenize import TweetTokenizer\n",
    "# Write a pattern that matches both mentions (@) and hashtags\n",
    "# pattern1 = r\"(@|#)\\w+\"\n",
    "pattern2 = r\"([@#]\\w+)\"\n",
    "# Use the pattern on the last tweet in the tweets list\n",
    "mentions_hashtags = regexp_tokenize(\"@data #twitter #camp\", pattern2)\n",
    "print(mentions_hashtags)"
   ]
  },
  {
   "cell_type": "code",
   "execution_count": 41,
   "id": "c1848e3e-98bc-42bd-b9d5-699f875e2aea",
   "metadata": {},
   "outputs": [
    {
     "name": "stdout",
     "output_type": "stream",
     "text": [
      "[['@data', '#twitter', '#camp'], ['@datacamp', '#fb', '#data']]\n"
     ]
    }
   ],
   "source": [
    "# Import the necessary modules\n",
    "from nltk.tokenize import regexp_tokenize\n",
    "from nltk.tokenize import TweetTokenizer\n",
    "# Use the TweetTokenizer to tokenize all tweets into one list\n",
    "tweets = [\n",
    "        \"@data #twitter #camp\",\n",
    "        \"@datacamp #fb #data\"\n",
    "    ]\n",
    "tknzr = TweetTokenizer()\n",
    "all_tokens = [tknzr.tokenize(t) for t in tweets]\n",
    "print(all_tokens)"
   ]
  },
  {
   "cell_type": "code",
   "execution_count": 42,
   "id": "50a563d1-bb38-48d2-aa07-638ae7d32a41",
   "metadata": {},
   "outputs": [
    {
     "name": "stdout",
     "output_type": "stream",
     "text": [
      "['Heute', 'ist', 'ein', 'schöner', 'Tag', '☀️', 'und', 'ich', 'freue', 'mich', 'auf', 'den', 'Abend', '🌙', '.']\n",
      "['Heute', 'Tag', 'Abend']\n",
      "['☀', '🌙']\n"
     ]
    }
   ],
   "source": [
    "german_text = \"Heute ist ein schöner Tag ☀️ und ich freue mich auf den Abend 🌙.\"\n",
    "# Tokenize and print all words in german_text\n",
    "all_words = word_tokenize(german_text)\n",
    "print(all_words)\n",
    "\n",
    "# Tokenize and print only capital words\n",
    "capital_words = r\"[A-ZÜ]\\w+\"\n",
    "print(regexp_tokenize(german_text, capital_words))\n",
    "\n",
    "# Tokenize and print only emoji\n",
    "emoji = \"['\\U0001F300-\\U0001F5FF'|'\\U0001F600-\\U0001F64F'|'\\U0001F680-\\U0001F6FF'|'\\u2600-\\u26FF\\u2700-\\u27BF']\"\n",
    "print(regexp_tokenize(german_text, emoji))"
   ]
  },
  {
   "cell_type": "code",
   "execution_count": 44,
   "id": "012d4123-dffa-42e6-b719-46e2dda4c71c",
   "metadata": {},
   "outputs": [
    {
     "data": {
      "image/png": "[encoded data removed]",
      "text/plain": [
       "<Figure size 640x480 with 1 Axes>"
      ]
     },
     "metadata": {},
     "output_type": "display_data"
    }
   ],
   "source": [
    "import matplotlib.pyplot as plt\n",
    "\n",
    "plt.hist([1, 2, 1, 1, 2, 2, 3])\n",
    "plt.show()"
   ]
  },
  {
   "cell_type": "code",
   "execution_count": null,
   "id": "88334f16-108e-4f4a-9471-b71a0870328e",
   "metadata": {},
   "outputs": [],
   "source": [
    "# References:\n",
    "\n",
    "- pandas https://pandas.pydata.org/docs/user_guide/10min.html\n",
    "- nltk "
   ]
  }
 ],
 "metadata": {
  "kernelspec": {
   "display_name": "Python 3 (ipykernel)",
   "language": "python",
   "name": "python3"
  },
  "language_info": {
   "codemirror_mode": {
    "name": "ipython",
    "version": 3
   },
   "file_extension": ".py",
   "mimetype": "text/x-python",
   "name": "python",
   "nbconvert_exporter": "python",
   "pygments_lexer": "ipython3",
   "version": "3.8.18"
  }
 },
 "nbformat": 4,
 "nbformat_minor": 5
}
