{
 "cells": [
  {
   "cell_type": "markdown",
   "id": "763a38b9-2299-4961-a971-5acce9e24a1e",
   "metadata": {},
   "source": [
    "### Myanmar Open WordNet walkthrough\n",
    "\n",
    "###### Thura Aung @ LU L"
   ]
  },
  {
   "cell_type": "code",
   "execution_count": 3,
   "id": "706ef3ce-c33b-460c-b0cc-56ecebf9d3fa",
   "metadata": {},
   "outputs": [],
   "source": [
    "# Singapore owned Myanmar Open WordNet inspired by Princeton WordNet\n",
    "# Maintainer: Wenjie WANG (王 文杰 wáng wén jié） < wwang5 + @ + ntu.edu.sg> Computational Linguistics Lab, Linguistics & Multilingual Studies, Nanyang Technological University\n",
    "# under a Creative Commons Attribution 4.0 International License"
   ]
  },
  {
   "cell_type": "code",
   "execution_count": 2,
   "id": "accc695a-69da-45f8-865d-422f88935c80",
   "metadata": {},
   "outputs": [],
   "source": [
    "# website: https://wordnet.burmese.sg/\n",
    "# link: https://github.com/myanmaropenwordnet/mow"
   ]
  },
  {
   "cell_type": "code",
   "execution_count": 41,
   "id": "7cc476be-efd3-4438-82d2-9119ea306986",
   "metadata": {},
   "outputs": [
    {
     "name": "stdout",
     "output_type": "stream",
     "text": [
      "## MOW 0.1.3\tmya\tCC BY 4.0\n",
      "00001740-v\tmya:lemma\tရှူ\n",
      "00005815-v\tmya:lemma\tချောင်းဆိုး\n",
      "00007328-v\tmya:lemma\tသမ်း\n",
      "00007846-n\tmya:lemma\tမနုဿ\n"
     ]
    }
   ],
   "source": [
    "# format\n",
    "!head -5 mmWORDNET.txt"
   ]
  },
  {
   "cell_type": "code",
   "execution_count": 1,
   "id": "143e4408-4807-4e62-af28-38a3f4215956",
   "metadata": {},
   "outputs": [],
   "source": [
    "# small dataset :("
   ]
  },
  {
   "cell_type": "code",
   "execution_count": 63,
   "id": "500c96a0-2836-4497-80ac-0733d1b06491",
   "metadata": {},
   "outputs": [
    {
     "name": "stdout",
     "output_type": "stream",
     "text": [
      "Synonyms for 'ကရော်ကမည်': ကပြက်ကချော်, ကရော်ကမည်, ကရော်ကမည်, ကပြက်ကချော်, ပြက်တီးပြက်ချော်, ကပြက်ကချော်, ပေါ့ပေါ့တန်တန်, ပေါ့ရွှတ်ရွှတ်, ကရော်ကမည်\n"
     ]
    }
   ],
   "source": [
    "def load_wordnet(file_path):\n",
    "    wordnet = {}\n",
    "    with open(file_path, 'r', encoding='utf-8') as file:\n",
    "        for line in file:\n",
    "            parts = line.strip().split('\\t')\n",
    "            if len(parts) >= 3:\n",
    "                synset_id = parts[0]\n",
    "                pos_tag = parts[1]\n",
    "                words = parts[2:]\n",
    "                if synset_id not in wordnet:\n",
    "                    wordnet[synset_id] = []\n",
    "                wordnet[synset_id].extend(words)\n",
    "    return wordnet\n",
    "\n",
    "def find_synonyms(wordnet, word):\n",
    "    synonyms = []\n",
    "    for synset_id, words in wordnet.items():\n",
    "        if word in words:\n",
    "            synonyms.extend(words)\n",
    "    # Not found OOV return itself\n",
    "    if len(synonyms) == 0:\n",
    "        synonyms.append(word)\n",
    "    return synonyms\n",
    "\n",
    "file_path = './mmWORDNET.txt'  \n",
    "wordnet = load_wordnet(file_path)\n",
    "\n",
    "word_to_find = 'ကရော်ကမည်'  \n",
    "synonyms = find_synonyms(wordnet, word_to_find)\n",
    "print(f\"Synonyms for '{word_to_find}': {', '.join(synonyms)}\")"
   ]
  },
  {
   "cell_type": "code",
   "execution_count": 60,
   "id": "0398e844-8bab-4030-8211-69d885338d6f",
   "metadata": {},
   "outputs": [
    {
     "name": "stdout",
     "output_type": "stream",
     "text": [
      "Synonyms for 'မြည်တွန်တောက်တီး': တွတ်, မြည်တွန်တောက်တီး, မြည်, မြည်တွန်တောက်တီး, တွတ်, မြည်တွန်တောက်တီး\n"
     ]
    }
   ],
   "source": [
    "word_to_find = 'မြည်တွန်တောက်တီး'  \n",
    "synonyms = find_synonyms(wordnet, word_to_find)\n",
    "print(f\"Synonyms for '{word_to_find}': {', '.join(synonyms)}\")"
   ]
  },
  {
   "cell_type": "code",
   "execution_count": 31,
   "id": "18d63b10-eef1-427e-a852-b40ac010e665",
   "metadata": {},
   "outputs": [
    {
     "name": "stdout",
     "output_type": "stream",
     "text": [
      "Synonyms for 'အမည်မှည့်': မှည့်, ပညတ်, အမည်မှည့်, သမုတ်\n"
     ]
    }
   ],
   "source": [
    "word_to_find = 'အမည်မှည့်'  \n",
    "synonyms = find_synonyms(wordnet, word_to_find)\n",
    "print(f\"Synonyms for '{word_to_find}': {', '.join(synonyms)}\")"
   ]
  },
  {
   "cell_type": "code",
   "execution_count": 32,
   "id": "e65ac704-13ea-4d03-b2ef-4c29a4462bc8",
   "metadata": {},
   "outputs": [
    {
     "name": "stdout",
     "output_type": "stream",
     "text": [
      "    1476    4739   62541 mmWORDNET.txt\n"
     ]
    }
   ],
   "source": [
    "!wc mmWORDNET.txt"
   ]
  },
  {
   "cell_type": "code",
   "execution_count": 62,
   "id": "d1bf8746-2528-44f0-a522-ccbfbcd04aa5",
   "metadata": {},
   "outputs": [
    {
     "name": "stdout",
     "output_type": "stream",
     "text": [
      "Synonyms for 'ရန်ဖြစ်': ရန်ဖြစ်\n"
     ]
    }
   ],
   "source": [
    "# no synonyms return itself\n",
    "word_to_find = 'ရန်ဖြစ်'  \n",
    "synonyms = find_synonyms(wordnet, word_to_find)\n",
    "print(f\"Synonyms for '{word_to_find}': {', '.join(synonyms)}\")"
   ]
  },
  {
   "cell_type": "code",
   "execution_count": 34,
   "id": "abf49de1-fb8b-4ec1-9025-06be9839a837",
   "metadata": {},
   "outputs": [
    {
     "name": "stdout",
     "output_type": "stream",
     "text": [
      "Synonyms for 'ဆင်တူ': တူ, ဆင်, ဆင်တူ, တူ, ဆင်, ဆင်တူ, တူ, ဆင်တူ, တူ, ဆင်, ဆင်တူ\n"
     ]
    }
   ],
   "source": [
    "# can find real synonyms\n",
    "word_to_find = 'ဆင်တူ'  \n",
    "synonyms = find_synonyms(wordnet, word_to_find)\n",
    "print(f\"Synonyms for '{word_to_find}': {', '.join(synonyms)}\")"
   ]
  },
  {
   "cell_type": "code",
   "execution_count": 42,
   "id": "22001480-4b8b-45df-bfc3-297a97f4996b",
   "metadata": {},
   "outputs": [],
   "source": [
    "# here are their ids\n",
    "# same ids\n",
    "# 02665282-v\tmya:lemma\tတူ\n",
    "# 02665282-v\tmya:lemma\tဆင်\n",
    "# 02665282-v\tmya:lemma\tဆင်တူ"
   ]
  },
  {
   "cell_type": "code",
   "execution_count": 37,
   "id": "806189a9-142a-4b5f-ac50-587b2d0c51ca",
   "metadata": {},
   "outputs": [
    {
     "name": "stdout",
     "output_type": "stream",
     "text": [
      "Synonyms for 'ဝက်ကလေး': ဝက်ကလေး\n",
      "Synonyms for 'ဝက်': ဝက်\n",
      "Synonyms for 'တောဝက်': တောဝက်\n"
     ]
    }
   ],
   "source": [
    "# derived words not the same - little pig, pig and wild boar\n",
    "words_to_find = ['ဝက်ကလေး', 'ဝက်', 'တောဝက်']\n",
    "for word_to_find in words_to_find:\n",
    "    synonyms = find_synonyms(wordnet, word_to_find)\n",
    "    print(f\"Synonyms for '{word_to_find}': {', '.join(synonyms)}\")"
   ]
  },
  {
   "cell_type": "code",
   "execution_count": 40,
   "id": "0f7356ee-bf75-4dc1-8acd-fb81b815000b",
   "metadata": {},
   "outputs": [
    {
     "name": "stdout",
     "output_type": "stream",
     "text": [
      "Synonyms for 'မစ': မစ, မစ, မစ\n",
      "Synonyms for 'ကယ်မ': ကယ်မ\n",
      "Synonyms for 'ကယ်': ကယ်\n"
     ]
    }
   ],
   "source": [
    "# Not synonym but similar (help vs save)\n",
    "words_to_find = ['မစ', 'ကယ်မ', 'ကယ်']\n",
    "for word_to_find in words_to_find:\n",
    "    synonyms = find_synonyms(wordnet, word_to_find)\n",
    "    print(f\"Synonyms for '{word_to_find}': {', '.join(synonyms)}\")"
   ]
  },
  {
   "cell_type": "code",
   "execution_count": 64,
   "id": "e3c63a56-b532-42ad-94a4-abf355b65451",
   "metadata": {},
   "outputs": [
    {
     "name": "stdout",
     "output_type": "stream",
     "text": [
      "Synonyms for 'ဂေါ်': ဂေါ်\n"
     ]
    }
   ],
   "source": [
    "# also added for oov \n",
    "# return itself\n",
    "word_to_find = 'ဂေါ်'  \n",
    "synonyms = find_synonyms(wordnet, word_to_find)\n",
    "print(f\"Synonyms for '{word_to_find}': {', '.join(synonyms)}\")"
   ]
  },
  {
   "cell_type": "code",
   "execution_count": 67,
   "id": "a452db59-779e-4126-9bb7-8097c496dc37",
   "metadata": {},
   "outputs": [
    {
     "name": "stdout",
     "output_type": "stream",
     "text": [
      "Antonyms for 'ရှူ': ရှူ\n"
     ]
    }
   ],
   "source": [
    "def load_wordnet(file_path):\n",
    "    wordnet = {}\n",
    "    with open(file_path, 'r', encoding='utf-8') as file:\n",
    "        for line in file:\n",
    "            parts = line.strip().split('\\t')\n",
    "            if len(parts) >= 3:\n",
    "                synset_id = parts[0]\n",
    "                pos_tag = parts[1]\n",
    "                words = parts[2:]\n",
    "                if synset_id not in wordnet:\n",
    "                    wordnet[synset_id] = {'lemma': [], 'antonym': []}\n",
    "                \n",
    "                if pos_tag == 'mya:lemma':\n",
    "                    wordnet[synset_id]['lemma'].extend(words)\n",
    "                elif pos_tag == 'antonym':\n",
    "                    wordnet[synset_id]['antonym'].extend(words)\n",
    "    return wordnet\n",
    "\n",
    "def find_antonyms(wordnet, word):\n",
    "    antonyms = []\n",
    "    for synset_id, info in wordnet.items():\n",
    "        if word in info['lemma']:\n",
    "            antonyms.extend(info['antonym'])\n",
    "    # Not found OOV return itself\n",
    "    if len(antonyms) == 0:\n",
    "        antonyms.append(word)\n",
    "    return antonyms\n",
    "\n",
    "file_path = './mmWORDNET.txt'  \n",
    "wordnet = load_wordnet(file_path)\n",
    "\n",
    "word_to_find = 'ရှူ' \n",
    "antonyms = find_antonyms(wordnet, word_to_find)\n",
    "print(f\"Antonyms for '{word_to_find}': {', '.join(antonyms)}\")"
   ]
  },
  {
   "cell_type": "code",
   "execution_count": 69,
   "id": "03dd3f36-6795-420d-9ab6-e778da386c6d",
   "metadata": {},
   "outputs": [
    {
     "name": "stdout",
     "output_type": "stream",
     "text": [
      "Synonyms for 'ဆင်တူ': ဆင်တူ\n"
     ]
    }
   ],
   "source": [
    "# can find real antonyms\n",
    "word_to_find = 'ဆင်တူ'  \n",
    "synonyms = find_antonyms(wordnet, word_to_find)\n",
    "print(f\"Synonyms for '{word_to_find}': {', '.join(synonyms)}\")"
   ]
  },
  {
   "cell_type": "code",
   "execution_count": 70,
   "id": "d76a19dc-2cab-4e16-b66e-7762e104b3ff",
   "metadata": {},
   "outputs": [
    {
     "name": "stdout",
     "output_type": "stream",
     "text": [
      "Synonyms for 'မြည်တွန်တောက်တီး': မြည်တွန်တောက်တီး\n"
     ]
    }
   ],
   "source": [
    "word_to_find = 'မြည်တွန်တောက်တီး'  \n",
    "synonyms = find_synonyms(wordnet, word_to_find)\n",
    "print(f\"Synonyms for '{word_to_find}': {', '.join(synonyms)}\")"
   ]
  },
  {
   "cell_type": "code",
   "execution_count": null,
   "id": "d4432b22-27d6-4f1f-9fa1-3ec60570a1f4",
   "metadata": {},
   "outputs": [],
   "source": [
    "# No antonym ?\n",
    "# Yes there is no annotation for antonym in our wordnet file !\n",
    "\n",
    "grep \"antonym\" mmWORDNET.txt"
   ]
  }
 ],
 "metadata": {
  "kernelspec": {
   "display_name": "Python 3 (ipykernel)",
   "language": "python",
   "name": "python3"
  },
  "language_info": {
   "codemirror_mode": {
    "name": "ipython",
    "version": 3
   },
   "file_extension": ".py",
   "mimetype": "text/x-python",
   "name": "python",
   "nbconvert_exporter": "python",
   "pygments_lexer": "ipython3",
   "version": "3.8.18"
  }
 },
 "nbformat": 4,
 "nbformat_minor": 5
}
