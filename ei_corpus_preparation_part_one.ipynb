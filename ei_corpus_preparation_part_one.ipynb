{
 "cells": [
  {
   "cell_type": "code",
   "execution_count": 4,
   "id": "3e6a8f7d-9ecb-4c15-a630-3c016366dee3",
   "metadata": {},
   "outputs": [
    {
     "name": "stdout",
     "output_type": "stream",
     "text": [
      "--2024-05-01 12:07:41--  https://raw.githubusercontent.com/ye-kyaw-thu/myPOS/master/corpus-ver-3.0/corpus/mypos-ver.3.0.txt\n",
      "Resolving raw.githubusercontent.com (raw.githubusercontent.com)... 185.199.108.133, 185.199.109.133, 185.199.110.133, ...\n",
      "Connecting to raw.githubusercontent.com (raw.githubusercontent.com)|185.199.108.133|:443... connected.\n",
      "HTTP request sent, awaiting response... 200 OK\n",
      "Length: 9581543 (9.1M) [text/plain]\n",
      "Saving to: ‘mypos-ver.3.0.txt’\n",
      "\n",
      "mypos-ver.3.0.txt   100%[===================>]   9.14M  27.7MB/s    in 0.3s    \n",
      "\n",
      "2024-05-01 12:07:43 (27.7 MB/s) - ‘mypos-ver.3.0.txt’ saved [9581543/9581543]\n",
      "\n"
     ]
    }
   ],
   "source": [
    "# အရင်ဆုံး ဆရာ ​ဒေါက်တာရဲ​ကျော်သူ ရဲ့ github က​နေ myPOS ver3.0 ကို သွား ​Download ပါတယ်။\n",
    "!wget https://raw.githubusercontent.com/ye-kyaw-thu/myPOS/master/corpus-ver-3.0/corpus/mypos-ver.3.0.txt"
   ]
  },
  {
   "cell_type": "code",
   "execution_count": 5,
   "id": "9567d504-b103-494c-91a0-aa627ae70eaa",
   "metadata": {},
   "outputs": [],
   "source": [
    "# Remove pipes\n",
    "!tr -s \"|\" \" \" < ./mypos-ver.3.0.txt > ./mypos-ver.3.0.nopipe.txt"
   ]
  },
  {
   "cell_type": "code",
   "execution_count": 6,
   "id": "875ebdd6-0662-4ceb-98e0-3c806d3e7b64",
   "metadata": {},
   "outputs": [
    {
     "name": "stdout",
     "output_type": "stream",
     "text": [
      "   43196  614899 9581542 ./mypos-ver.3.0.nopipe.txt\n"
     ]
    }
   ],
   "source": [
    "# Check the data\n",
    "!wc ./mypos-ver.3.0.nopipe.txt"
   ]
  },
  {
   "cell_type": "code",
   "execution_count": 7,
   "id": "e5e9686c-d787-4709-83b5-c3125f30a428",
   "metadata": {},
   "outputs": [
    {
     "name": "stdout",
     "output_type": "stream",
     "text": [
      "ဒီ/adj ဆေး/n က/ppm ၁၀၀/num ရာခိုင်နှုန်း/n ဆေးဘက်ဝင်/adj အပင်/n များ/part မှ/ppm ဖော်စပ်/v ထား/part တာ/part ဖြစ်/v တယ်/ppm ။/punc\n",
      "အသစ်/n ဝယ်/v ထား/part တဲ့/part ဆွယ်တာ/n က/ppm အသီး/n ထ/v နေ/part ပါ/part ပေါ့/part ။/punc\n",
      "မ/part ကျန်းမာ/v လျှင်/conj နတ်/n ဆရာ/n ထံ/ppm မေးမြန်း/v ၍/conj သက်ဆိုင်ရာ/n နတ်/n တို့/part အား/ppm ပူဇော်ပသ/v ရ/part သည်/ppm ။/punc\n",
      "ပေဟိုင်/n ဥယျာဉ်/n ။/punc\n",
      "နဝမ/adj အိပ်မက်/n ကောသလ/n မင်း/n အိပ်မက်/n ၉/num နက်ရှိုင်း/adj ကျယ်ဝန်း/adj သော/part ရေကန်/n ကြီး/adj တစ်/tn ခု/part တွင်/ppm သတ္တဝါ/n တို့/part ဆင်း/v ၍/conj ရေသောက်/v ကြ/part ၏/ppm ။/punc\n"
     ]
    }
   ],
   "source": [
    "!head -5 ./mypos-ver.3.0.nopipe.txt"
   ]
  },
  {
   "cell_type": "code",
   "execution_count": 13,
   "id": "d968c351-a749-4384-b9ac-6b338319d10e",
   "metadata": {},
   "outputs": [],
   "source": [
    "import re\n",
    "\n",
    "def extract_sentences_with_parts_of_speech(input_file, output_file):\n",
    "    with open(input_file, 'r', encoding='utf-8') as f:\n",
    "        data = f.read()\n",
    "\n",
    "    # Define the pattern to match sentences containing /adj, /adv, and /v only\n",
    "    pattern = r'\\b(?:\\/adj|\\/adv|\\/v)\\b'\n",
    "\n",
    "    # Split the data into sentences\n",
    "    sentences = data.split('\\n')  # Splitting by newline characters\n",
    "\n",
    "    # Extract sentences matching the pattern\n",
    "    matched_sentences = [sentence.strip() for sentence in sentences if re.search(pattern, sentence)]\n",
    "\n",
    "    # Write matched sentences to the output file\n",
    "    with open(output_file, 'w', encoding='utf-8') as f:\n",
    "        f.write('\\n'.join(matched_sentences))"
   ]
  },
  {
   "cell_type": "code",
   "execution_count": 14,
   "id": "a5d5517b-9448-49e5-921e-087fcdbd7e74",
   "metadata": {},
   "outputs": [],
   "source": [
    "# Extract sentences with adj adv and v only\n",
    "input_file = './mypos-ver.3.0.nopipe.txt'  # Provide your input file name\n",
    "output_file = './mypos-ver.3.0.nopipe.adj_adv_v_tags.txt'  # Provide your output file name\n",
    "extract_sentences_with_parts_of_speech(input_file, output_file)"
   ]
  },
  {
   "cell_type": "code",
   "execution_count": 15,
   "id": "e6694252-3c71-4e53-911a-37a1fd51e09c",
   "metadata": {},
   "outputs": [
    {
     "name": "stdout",
     "output_type": "stream",
     "text": [
      "အသစ်/n ဝယ်/v ထား/part တဲ့/part ဆွယ်တာ/n က/ppm အသီး/n ထ/v နေ/part ပါ/part ပေါ့/part ။/punc\n",
      "မ/part ကျန်းမာ/v လျှင်/conj နတ်/n ဆရာ/n ထံ/ppm မေးမြန်း/v ၍/conj သက်ဆိုင်ရာ/n နတ်/n တို့/part အား/ppm ပူဇော်ပသ/v ရ/part သည်/ppm ။/punc\n",
      "နဝမ/adj အိပ်မက်/n ကောသလ/n မင်း/n အိပ်မက်/n ၉/num နက်ရှိုင်း/adj ကျယ်ဝန်း/adj သော/part ရေကန်/n ကြီး/adj တစ်/tn ခု/part တွင်/ppm သတ္တဝါ/n တို့/part ဆင်း/v ၍/conj ရေသောက်/v ကြ/part ၏/ppm ။/punc\n",
      "ထို့ကြောင့်/conj နက်ပကျွန်း/n ဂြိုဟ်/n အပြာ/n ရောင်/n တောက်ပ/adj ခြင်း/part မှာ/ppm အခြား/adj အကြောင်း/n များ/part လည်း/part ရှိ/v နိုင်/part သည်/ppm ။/punc\n",
      "ရရှိ/v ပြီး/part တဲ့/part လွတ်လပ်ရေး/n တည်မြဲ/v အောင်/conj ထိန်းသိမ်း/v ကာကွယ်/v စောင့်ရှောက်/v ရေး/part တာဝန်/n ကို/ppm အမြဲ/adv သတိရ/v စေ/part ဖို့/part နှစ်စဉ်/n ဇန်နဝါရီ/n လ/n ၄/num ရက်နေ့/n ရောက်/v တိုင်း/part နိုင်ငံ/n တစ်ဝန်းလုံး/n မှာ/ppm လွတ်လပ်ရေးနေ့/n အခမ်းအနား/n တွေ/part ကို/ppm ကျင်းပ/v ကြ/part ပါ/part တယ်/ppm ၊/punc အဲဒီ/adj အခမ်းအနား/n တွေ/part ကို/ppm လွတ်လပ်ရေးကျောက်တိုင်/n မှာ/ppm စုဝေး/v ပြီး/part ကျင်းပ/v လေ့/part ရှိ/v တယ်/ppm ။/punc\n"
     ]
    }
   ],
   "source": [
    "!head -5 ./mypos-ver.3.0.nopipe.adj_adv_v_tags.txt"
   ]
  },
  {
   "cell_type": "code",
   "execution_count": 35,
   "id": "cb4a0aba-9c76-429f-9f9b-58cea436bcd1",
   "metadata": {},
   "outputs": [],
   "source": [
    "import re\n",
    "\n",
    "def remove_tags(input_file, output_file):\n",
    "    with open(input_file, 'r', encoding='utf-8') as f:\n",
    "        data = f.read()\n",
    "\n",
    "    # Define the pattern to match POS tags\n",
    "    pattern = r'\\/(?:n|part|ppm|v|punc|conj|adj|num|adv|pron|tn|fw|abb|sb|int)'\n",
    "\n",
    "    # Remove POS tags using regex substitution\n",
    "    cleaned_data = re.sub(pattern, '', data)\n",
    "\n",
    "    # Write the cleaned data to the output file\n",
    "    with open(output_file, 'w', encoding='utf-8') as f:\n",
    "        f.write(cleaned_data)"
   ]
  },
  {
   "cell_type": "code",
   "execution_count": 36,
   "id": "677fe3cc-4780-44dd-87d3-829c449fec18",
   "metadata": {},
   "outputs": [],
   "source": [
    "remove_tags(\"./mypos-ver.3.0.nopipe.adj_adv_v_tags.txt\", \"./mypos-ver.3.0.nopipe.adj_adv_v_tags.rm_tag.txt\")"
   ]
  },
  {
   "cell_type": "code",
   "execution_count": 37,
   "id": "0863ee57-fe54-4e37-add4-de2a6d417e35",
   "metadata": {},
   "outputs": [
    {
     "name": "stdout",
     "output_type": "stream",
     "text": [
      "    4274   86098 1336274 ./mypos-ver.3.0.nopipe.adj_adv_v_tags.txt\n",
      "    4274   85632 1055314 ./mypos-ver.3.0.nopipe.adj_adv_v_tags.rm_tag.txt\n",
      "    8548  171730 2391588 total\n"
     ]
    }
   ],
   "source": [
    "# Check the statistics of data without /tags\n",
    "!wc ./mypos-ver.3.0.nopipe.adj_adv_v_tags.txt ./mypos-ver.3.0.nopipe.adj_adv_v_tags.rm_tag.txt"
   ]
  },
  {
   "cell_type": "code",
   "execution_count": 38,
   "id": "162b9f0d-0361-49fb-ab2d-91c3913548a1",
   "metadata": {},
   "outputs": [
    {
     "name": "stdout",
     "output_type": "stream",
     "text": [
      "==> ./mypos-ver.3.0.nopipe.adj_adv_v_tags.txt <==\n",
      "အသစ်/n ဝယ်/v ထား/part တဲ့/part ဆွယ်တာ/n က/ppm အသီး/n ထ/v နေ/part ပါ/part ပေါ့/part ။/punc\n",
      "မ/part ကျန်းမာ/v လျှင်/conj နတ်/n ဆရာ/n ထံ/ppm မေးမြန်း/v ၍/conj သက်ဆိုင်ရာ/n နတ်/n တို့/part အား/ppm ပူဇော်ပသ/v ရ/part သည်/ppm ။/punc\n",
      "နဝမ/adj အိပ်မက်/n ကောသလ/n မင်း/n အိပ်မက်/n ၉/num နက်ရှိုင်း/adj ကျယ်ဝန်း/adj သော/part ရေကန်/n ကြီး/adj တစ်/tn ခု/part တွင်/ppm သတ္တဝါ/n တို့/part ဆင်း/v ၍/conj ရေသောက်/v ကြ/part ၏/ppm ။/punc\n",
      "ထို့ကြောင့်/conj နက်ပကျွန်း/n ဂြိုဟ်/n အပြာ/n ရောင်/n တောက်ပ/adj ခြင်း/part မှာ/ppm အခြား/adj အကြောင်း/n များ/part လည်း/part ရှိ/v နိုင်/part သည်/ppm ။/punc\n",
      "ရရှိ/v ပြီး/part တဲ့/part လွတ်လပ်ရေး/n တည်မြဲ/v အောင်/conj ထိန်းသိမ်း/v ကာကွယ်/v စောင့်ရှောက်/v ရေး/part တာဝန်/n ကို/ppm အမြဲ/adv သတိရ/v စေ/part ဖို့/part နှစ်စဉ်/n ဇန်နဝါရီ/n လ/n ၄/num ရက်နေ့/n ရောက်/v တိုင်း/part နိုင်ငံ/n တစ်ဝန်းလုံး/n မှာ/ppm လွတ်လပ်ရေးနေ့/n အခမ်းအနား/n တွေ/part ကို/ppm ကျင်းပ/v ကြ/part ပါ/part တယ်/ppm ၊/punc အဲဒီ/adj အခမ်းအနား/n တွေ/part ကို/ppm လွတ်လပ်ရေးကျောက်တိုင်/n မှာ/ppm စုဝေး/v ပြီး/part ကျင်းပ/v လေ့/part ရှိ/v တယ်/ppm ။/punc\n",
      "ယခု/n မှ/ppm စ/v ၍/conj ဘဏ္ဍာစိုး/n မ/part လုပ်/v ရ/part ဟု/part ဆို/v ၏/ppm ။/punc\n",
      "ငါး/n တစ်/tn မျိုး/part တစ်/tn မျိုး/part သည်/ppm တစ်/tn ရာသီ/n တွင်/ppm ဥ/n ပေါင်း/n ၅ဝဝဝဝဝဝ/num မှ/ppm ၉ဝဝဝဝဝဝ/num အထိ/ppm ဥ/v တတ်/part သဖြင့်/conj ထို/adj ငါး/n ဥ/n များ/part မှ/ppm အောင်မြင်/v စွာ/part ပေါက်/v လာ/part ကြ/part မည်/ppm ဆို/v လျှင်/conj ရေ/n လောက/n ကြီး/part တစ်/tn ခု/part လုံး/part တွင်/ppm ငါး/n များ/part ဖြင့်/ppm ပြည့်ကျပ်/v နေ/part ပေ/part လိမ့်/ppm မည်/ppm ။/punc\n",
      "မှန်ကန်/adj သော/part အတွေးအမြင်/n ရ/v ရန်/part ကြိုးစား/v သည်/ppm ။/punc\n",
      "ဤ/adj ဇုန်/n သည်/ppm မြို့/n ၏/ppm မြို့လယ်ခေါင်/n ဖြစ်/v လာ/part လိမ့်/ppm မည်/ppm ။/punc\n",
      "ဤ/adj အနေအထား/n ကို/ppm သူ/pron ၏/ppm နိုင်ငံ/n ရေး/part အတိုက်အခံ/n တို့/part က/ppm သူ/pron ခေါင်းဆောင်/v ခဲ့/part သော/part ကိုယ်စားလှယ်/n အဖွဲ့/n ၏/ppm ရှုံးနိမ့်/v မှု/part ကဲ့သို့/part ဖြစ်/v စေရန်/conj ကောက်ကွေ့/adj ပွေလီ/v စွာ/part အဓိပ္ပါယ်ဖွင့်/v လို/v က/ppm ဖွင့်/v နိုင်/part ပါ/part သည်/ppm ။/punc\n",
      "\n",
      "==> ./mypos-ver.3.0.nopipe.adj_adv_v_tags.rm_tag.txt <==\n",
      "အသစ် ဝယ် ထား တဲ့ ဆွယ်တာ က အသီး ထ နေ ပါ ပေါ့ ။\n",
      "မ ကျန်းမာ လျှင် နတ် ဆရာ ထံ မေးမြန်း ၍ သက်ဆိုင်ရာ နတ် တို့ အား ပူဇော်ပသ ရ သည် ။\n",
      "နဝမ အိပ်မက် ကောသလ မင်း အိပ်မက် ၉um နက်ရှိုင်း ကျယ်ဝန်း သော ရေကန် ကြီး တစ် ခု တွင် သတ္တဝါ တို့ ဆင်း ၍ ရေသောက် ကြ ၏ ။\n",
      "ထို့ကြောင့် နက်ပကျွန်း ဂြိုဟ် အပြာ ရောင် တောက်ပ ခြင်း မှာ အခြား အကြောင်း များ လည်း ရှိ နိုင် သည် ။\n",
      "ရရှိ ပြီး တဲ့ လွတ်လပ်ရေး တည်မြဲ အောင် ထိန်းသိမ်း ကာကွယ် စောင့်ရှောက် ရေး တာဝန် ကို အမြဲ သတိရ စေ ဖို့ နှစ်စဉ် ဇန်နဝါရီ လ ၄um ရက်နေ့ ရောက် တိုင်း နိုင်ငံ တစ်ဝန်းလုံး မှာ လွတ်လပ်ရေးနေ့ အခမ်းအနား တွေ ကို ကျင်းပ ကြ ပါ တယ် ၊ အဲဒီ အခမ်းအနား တွေ ကို လွတ်လပ်ရေးကျောက်တိုင် မှာ စုဝေး ပြီး ကျင်းပ လေ့ ရှိ တယ် ။\n",
      "ယခု မှ စ ၍ ဘဏ္ဍာစိုး မ လုပ် ရ ဟု ဆို ၏ ။\n",
      "ငါး တစ် မျိုး တစ် မျိုး သည် တစ် ရာသီ တွင် ဥ ပေါင်း ၅ဝဝဝဝဝဝum မှ ၉ဝဝဝဝဝဝum အထိ ဥ တတ် သဖြင့် ထို ငါး ဥ များ မှ အောင်မြင် စွာ ပေါက် လာ ကြ မည် ဆို လျှင် ရေ လောက ကြီး တစ် ခု လုံး တွင် ငါး များ ဖြင့် ပြည့်ကျပ် နေ ပေ လိမ့် မည် ။\n",
      "မှန်ကန် သော အတွေးအမြင် ရ ရန် ကြိုးစား သည် ။\n",
      "ဤ ဇုန် သည် မြို့ ၏ မြို့လယ်ခေါင် ဖြစ် လာ လိမ့် မည် ။\n",
      "ဤ အနေအထား ကို သူ ၏ နိုင်ငံ ရေး အတိုက်အခံ တို့ က သူ ခေါင်းဆောင် ခဲ့ သော ကိုယ်စားလှယ် အဖွဲ့ ၏ ရှုံးနိမ့် မှု ကဲ့သို့ ဖြစ် စေရန် ကောက်ကွေ့ ပွေလီ စွာ အဓိပ္ပါယ်ဖွင့် လို က ဖွင့် နိုင် ပါ သည် ။\n"
     ]
    }
   ],
   "source": [
    "# Check the contents\n",
    "!head -10 ./mypos-ver.3.0.nopipe.adj_adv_v_tags.txt ./mypos-ver.3.0.nopipe.adj_adv_v_tags.rm_tag.txt"
   ]
  },
  {
   "cell_type": "code",
   "execution_count": 39,
   "id": "217d323a-5f98-4815-9b64-7e99101df032",
   "metadata": {},
   "outputs": [],
   "source": [
    "from myNLP.utils import clean"
   ]
  },
  {
   "cell_type": "code",
   "execution_count": 40,
   "id": "e66aa8c1-8b86-4a49-8f70-2f0280c2c259",
   "metadata": {},
   "outputs": [],
   "source": [
    "clean.clean_file(\"./mypos-ver.3.0.nopipe.adj_adv_v_tags.rm_tag.txt\", \"./mypos-ver.3.0.nopipe.adj_adv_v_tags.rm_tag.cleaned\")"
   ]
  },
  {
   "cell_type": "code",
   "execution_count": 41,
   "id": "95f15941-ba41-4078-9bcb-4eadd76b0334",
   "metadata": {},
   "outputs": [
    {
     "name": "stdout",
     "output_type": "stream",
     "text": [
      "အသစ် ဝယ် ထား တဲ့ ဆွယ်တာ က အသီး ထ နေ ပါ ပေါ့ ။\n",
      "မ ကျန်းမာ လျှင် နတ် ဆရာ ထံ မေးမြန်း ၍ သက်ဆိုင်ရာ နတ် တို့ အား ပူဇော်ပသ ရ သည် ။\n",
      "နဝမ အိပ်မက် ကောသလ မင်း အိပ်မက် ၉ နက်ရှိုင်း ကျယ်ဝန်း သော ရေကန် ကြီး တစ် ခု တွင် သတ္တဝါ တို့ ဆင်း ၍ ရေသောက် ကြ ၏ ။\n",
      "ထို့ကြောင့် နက်ပကျွန်း ဂြိုဟ် အပြာ ရောင် တောက်ပ ခြင်း မှာ အခြား အကြောင်း များ လည်း ရှိ နိုင် သည် ။\n",
      "ရရှိ ပြီး တဲ့ လွတ်လပ်ရေး တည်မြဲ အောင် ထိန်းသိမ်း ကာကွယ် စောင့်ရှောက် ရေး တာဝန် ကို အမြဲ သတိရ စေ ဖို့ နှစ်စဉ် ဇန်နဝါရီ လ ၄ ရက်နေ့ ရောက် တိုင်း နိုင်ငံ တစ်ဝန်းလုံး မှာ လွတ်လပ်ရေးနေ့ အခမ်းအနား တွေ ကို ကျင်းပ ကြ ပါ တယ် ၊ အဲဒီ အခမ်းအနား တွေ ကို လွတ်လပ်ရေးကျောက်တိုင် မှာ စုဝေး ပြီး ကျင်းပ လေ့ ရှိ တယ် ။\n"
     ]
    }
   ],
   "source": [
    "!head -5 ./mypos-ver.3.0.nopipe.adj_adv_v_tags.rm_tag.cleaned"
   ]
  },
  {
   "cell_type": "code",
   "execution_count": null,
   "id": "ca2afe4c-3238-4c3d-8006-b613b8cfd98a",
   "metadata": {},
   "outputs": [],
   "source": []
  }
 ],
 "metadata": {
  "kernelspec": {
   "display_name": "Python 3 (ipykernel)",
   "language": "python",
   "name": "python3"
  },
  "language_info": {
   "codemirror_mode": {
    "name": "ipython",
    "version": 3
   },
   "file_extension": ".py",
   "mimetype": "text/x-python",
   "name": "python",
   "nbconvert_exporter": "python",
   "pygments_lexer": "ipython3",
   "version": "3.8.18"
  }
 },
 "nbformat": 4,
 "nbformat_minor": 5
}
